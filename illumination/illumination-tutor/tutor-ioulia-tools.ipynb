{
 "cells": [
  {
   "cell_type": "markdown",
   "metadata": {},
   "source": [
    "# Illumination Tutor Ioulia Helping Tools"
   ]
  },
  {
   "cell_type": "code",
   "execution_count": 14,
   "metadata": {},
   "outputs": [],
   "source": [
    "import os\n",
    "import openai\n",
    "openai.api_key = os.getenv(\"OPENAI_API_KEY\")"
   ]
  },
  {
   "cell_type": "code",
   "execution_count": 15,
   "metadata": {},
   "outputs": [],
   "source": [
    "def get_completion(prompt, model=\"gpt-3.5-turbo\"):\n",
    "    messages = [{\"role\": \"user\", \"content\": prompt}]\n",
    "    response = openai.ChatCompletion.create(\n",
    "        model=model,\n",
    "        messages=messages,\n",
    "        temperature=0, # this is the degree of randomness of the model's output\n",
    "    )\n",
    "    return response.choices[0].message[\"content\"]\n",
    "\n",
    "def get_completion_from_messages(messages, model=\"gpt-3.5-turbo\", temperature=0):\n",
    "    response = openai.ChatCompletion.create(\n",
    "        model=model,\n",
    "        messages=messages,\n",
    "        temperature=temperature, # this is the degree of randomness of the model's output\n",
    "    )\n",
    "#     print(str(response.choices[0].message))\n",
    "    return response.choices[0].message[\"content\"]"
   ]
  },
  {
   "cell_type": "code",
   "execution_count": 16,
   "metadata": {},
   "outputs": [
    {
     "name": "stdout",
     "output_type": "stream",
     "text": [
      "盛浩然 衔接词汇 481-575 背诵 第一遍正确率-10/33 未过关 第二遍正确率-8/23 错误单词thunder,sightseeing,alternative 学生单词目前还需要加强背诵。听力单词 p119-120 背诵 正确率-5/17 第二遍正确率-7/10 错误单词lake,mountain 学生中文意思记不住，要加强背诵效率。默写 完成了月份星期数字的英文默写。精听 完成了精听j18t2前20句，学生句子基本没有听出来信息，句子写不出来，翻译的时候也是只会听到几个单词，精听能力比较弱，需要学会整合信息，坚持听力练习。口语素材整理 完成了1个口语话题的素材整理，需要开口多读，不能光写下来看。\n"
     ]
    }
   ],
   "source": [
    "prompt = input(\"Input: \")\n",
    "\n",
    "context = [\n",
    "\t{\n",
    "\t\t\"role\": \"system\",\n",
    "\t\t\"content\": \"\"\"\n",
    "You are an English tutor assistance. \\\n",
    "\n",
    "These are your JOBs: \\\n",
    "JOB 1. Convert the tasks completed by each student into a feedback.\n",
    "\n",
    "Here are the details for each your JOB: \\\n",
    "\n",
    "JOB 1: \\\n",
    "1. You will convert the received message into the following format without losing any information, \\\n",
    "and note that performance and content for each task should not overlap, and tutor advice can be null if not covered in the original message: \\\n",
    "name: <name of student> \\\n",
    "task 1 title: <title of task 1> \\\n",
    "task 1 content: <content of task 1> \\\n",
    "task 1 tutor advice/expectation: <advice of task 1> \\\n",
    "task 1 tutor comment: <comment of task 1> \\\n",
    "task 2 title: <title of task 2> \\\n",
    "task 2 content: <content of task 2> \\\n",
    "task 2 tutor advice/expectation: <advice of task 2> \\\n",
    "task 2 tutor comment: <comment of task 2> \\\n",
    "...\n",
    "task n title: <title of task n> \\\n",
    "task n content: <content of task n> \\\n",
    "task n tutor advice/expectation: <advice of task n> \\\n",
    "task n tutor comment: <comment of task n> \\\n",
    "2. Convert the result above into one sentence, include the actual value in the <> only, \\\n",
    "but the comment, advice and expectations must be ignored and all the information in content should be kept. \\\n",
    "3. Generate a one-line result of the result of step 2. \\\n",
    "Here are some examples: \\\n",
    "Original message: \\\n",
    "可欣家长晚上好，以下是可欣今天完成的教辅任务:\n",
    "【听力单词】完成了听力单词92-97，第一次没过，第二次正确率-7/37， 错误的单词有（approach等）中文反应慢，单词拼写正确率需提升。继续加油\n",
    "【翻译】完成了翻译10句，句子结构不明了，对句子分析不够，要先分析中文再写英文，介词和其他词汇使用不准确，当面给学生讲过了，继续加油\n",
    "【阅读单词】完成list9单词背默，正确率-9/73，错误的单词（pledge、deny、conform、splendid、execute、vessel、soak、greasy、boast）等没记住单词意思和单词词性，继续努力\n",
    "【精听】完成C10T1S2精听，已对照原文订正，学生目前跟不上语速，检查翻译时能基本说出句子意思，继续努力\n",
    "Result: \\\n",
    "可欣 听力单词 92-97 第一次没过 第二次正确率-7/37 错误单词approach等 中文反应慢。\\\n",
    "翻译10句 句子结构不明了，对句子分析不够，要先分析中文再写英文，介词和其他词汇使用不准确，当面给学生讲过了。\\\n",
    "阅读单词list9 正确率-9/73 错误单词ledge、deny、conform、splendid、execute、vessel、soak、greasy、boast 没记住单词的意思和词性。\\\n",
    "精听 C10T1S2 已对照原文订正，学生目前跟不上语速，检查翻译时能基本说出句子意思. \\\n",
    "\"\"\"\n",
    "\t},\n",
    "\t{\n",
    "\t\t\"role\": \"user\",\n",
    "\t\t\"content\": f\"```{prompt}```\"\n",
    "\t}\n",
    "]\n",
    "\n",
    "response = get_completion_from_messages(context)\n",
    "print(response)"
   ]
  }
 ],
 "metadata": {
  "kernelspec": {
   "display_name": "ChatGPT-Prompt-Engineering-VsBAUXeZ",
   "language": "python",
   "name": "python3"
  },
  "language_info": {
   "codemirror_mode": {
    "name": "ipython",
    "version": 3
   },
   "file_extension": ".py",
   "mimetype": "text/x-python",
   "name": "python",
   "nbconvert_exporter": "python",
   "pygments_lexer": "ipython3",
   "version": "3.9.6"
  },
  "orig_nbformat": 4
 },
 "nbformat": 4,
 "nbformat_minor": 2
}
