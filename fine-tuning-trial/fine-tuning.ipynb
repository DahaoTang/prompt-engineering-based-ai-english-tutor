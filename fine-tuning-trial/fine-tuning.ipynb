{
  "cells": [
    {
      "cell_type": "markdown",
      "metadata": {},
      "source": [
        "# Fine-tuning with ChatGPT Trial"
      ]
    },
    {
      "cell_type": "markdown",
      "metadata": {},
      "source": [
        "Import ChatGPT API Key"
      ]
    },
    {
      "cell_type": "code",
      "execution_count": 7,
      "metadata": {},
      "outputs": [],
      "source": [
        "import os\n",
        "import openai\n",
        "openai.api_key = os.getenv(\"OPENAI_API_KEY\")"
      ]
    },
    {
      "cell_type": "markdown",
      "metadata": {},
      "source": [
        "Load the file for fine-tuning."
      ]
    },
    {
      "cell_type": "code",
      "execution_count": 13,
      "metadata": {},
      "outputs": [
        {
          "data": {
            "text/plain": [
              "<File file id=file-zsYeTvKKgRYg6PkptxykbadZ at 0x10500e3b0> JSON: {\n",
              "  \"object\": \"file\",\n",
              "  \"id\": \"file-zsYeTvKKgRYg6PkptxykbadZ\",\n",
              "  \"purpose\": \"fine-tune\",\n",
              "  \"filename\": \"file\",\n",
              "  \"bytes\": 4558,\n",
              "  \"created_at\": 1696070759,\n",
              "  \"status\": \"uploaded\",\n",
              "  \"status_details\": null\n",
              "}"
            ]
          },
          "execution_count": 13,
          "metadata": {},
          "output_type": "execute_result"
        }
      ],
      "source": [
        "openai.File.create(\n",
        "  file=open(\"context_free.jsonl\", \"rb\"),\n",
        "  purpose='fine-tune'\n",
        ")"
      ]
    },
    {
      "cell_type": "markdown",
      "metadata": {},
      "source": [
        "Create the fine-tuning model"
      ]
    },
    {
      "cell_type": "code",
      "execution_count": 14,
      "metadata": {},
      "outputs": [
        {
          "data": {
            "text/plain": [
              "<FineTuningJob fine_tuning.job id=ftjob-IgpHFmv9ZCWzpbysuoCk7XSZ at 0x104fe1040> JSON: {\n",
              "  \"object\": \"fine_tuning.job\",\n",
              "  \"id\": \"ftjob-IgpHFmv9ZCWzpbysuoCk7XSZ\",\n",
              "  \"model\": \"gpt-3.5-turbo-0613\",\n",
              "  \"created_at\": 1696070893,\n",
              "  \"finished_at\": null,\n",
              "  \"fine_tuned_model\": null,\n",
              "  \"organization_id\": \"org-34nABQVdWvKGZKMpR2q1cVQr\",\n",
              "  \"result_files\": [],\n",
              "  \"status\": \"validating_files\",\n",
              "  \"validation_file\": null,\n",
              "  \"training_file\": \"file-zsYeTvKKgRYg6PkptxykbadZ\",\n",
              "  \"hyperparameters\": {\n",
              "    \"n_epochs\": \"auto\"\n",
              "  },\n",
              "  \"trained_tokens\": null,\n",
              "  \"error\": null\n",
              "}"
            ]
          },
          "execution_count": 14,
          "metadata": {},
          "output_type": "execute_result"
        }
      ],
      "source": [
        "openai.FineTuningJob.create(training_file=\"file-zsYeTvKKgRYg6PkptxykbadZ\", model=\"gpt-3.5-turbo\")"
      ]
    },
    {
      "cell_type": "markdown",
      "metadata": {},
      "source": [
        "*Check Job Status*"
      ]
    },
    {
      "cell_type": "code",
      "execution_count": 18,
      "metadata": {},
      "outputs": [
        {
          "data": {
            "text/plain": [
              "<FineTuningJob fine_tuning.job id=ftjob-IgpHFmv9ZCWzpbysuoCk7XSZ at 0x104fef2c0> JSON: {\n",
              "  \"object\": \"fine_tuning.job\",\n",
              "  \"id\": \"ftjob-IgpHFmv9ZCWzpbysuoCk7XSZ\",\n",
              "  \"model\": \"gpt-3.5-turbo-0613\",\n",
              "  \"created_at\": 1696070893,\n",
              "  \"finished_at\": 1696071265,\n",
              "  \"fine_tuned_model\": \"ft:gpt-3.5-turbo-0613:personal::84Ru6pu3\",\n",
              "  \"organization_id\": \"org-34nABQVdWvKGZKMpR2q1cVQr\",\n",
              "  \"result_files\": [\n",
              "    \"file-p8wCbSvOXbWqIzA0b6p1XEjA\"\n",
              "  ],\n",
              "  \"status\": \"succeeded\",\n",
              "  \"validation_file\": null,\n",
              "  \"training_file\": \"file-zsYeTvKKgRYg6PkptxykbadZ\",\n",
              "  \"hyperparameters\": {\n",
              "    \"n_epochs\": 10\n",
              "  },\n",
              "  \"trained_tokens\": 8370,\n",
              "  \"error\": null\n",
              "}"
            ]
          },
          "execution_count": 18,
          "metadata": {},
          "output_type": "execute_result"
        }
      ],
      "source": [
        "# List 10 fine-tuning jobs\n",
        "# openai.FineTuningJob.list(limit=10)\n",
        "\n",
        "# Retrieve the state of a fine-tune\n",
        "openai.FineTuningJob.retrieve(\"ftjob-IgpHFmv9ZCWzpbysuoCk7XSZ\")\n",
        "\n",
        "# Cancel a job\n",
        "# openai.FineTuningJob.cancel(\"ftjob-abc123\")\n",
        "\n",
        "# List up to 10 events from a fine-tuning job\n",
        "# openai.FineTuningJob.list_events(id=\"ftjob-IgpHFmv9ZCWzpbysuoCk7XSZ\", limit=10)\n",
        "\n",
        "# Delete a fine-tuned model (must be an owner of the org the model was created in)\n",
        "# openai.Model.delete(\"ft:gpt-3.5-turbo:acemeco:suffix:abc123\")"
      ]
    },
    {
      "cell_type": "markdown",
      "metadata": {},
      "source": [
        "Use the model"
      ]
    },
    {
      "cell_type": "code",
      "execution_count": 19,
      "metadata": {},
      "outputs": [
        {
          "name": "stdout",
          "output_type": "stream",
          "text": [
            "{\n",
            "  \"role\": \"assistant\",\n",
            "  \"content\": \"Hi there! How can I assist you today?\"\n",
            "}\n"
          ]
        }
      ],
      "source": [
        "completion = openai.ChatCompletion.create(\n",
        "  model=\"ft:gpt-3.5-turbo-0613:personal::84Ru6pu3\",\n",
        "  messages=[\n",
        "    {\"role\": \"system\", \"content\": \"You are a helpful assistant.\"},\n",
        "    {\"role\": \"user\", \"content\": \"Hello!\"}\n",
        "  ]\n",
        ")\n",
        "print(completion.choices[0].message)"
      ]
    }
  ],
  "metadata": {
    "kernelspec": {
      "display_name": "ChatGPT-Prompt-Engineering-VsBAUXeZ",
      "language": "python",
      "name": "python3"
    },
    "language_info": {
      "codemirror_mode": {
        "name": "ipython",
        "version": 3
      },
      "file_extension": ".py",
      "mimetype": "text/x-python",
      "name": "python",
      "nbconvert_exporter": "python",
      "pygments_lexer": "ipython3",
      "version": "3.9.6"
    },
    "orig_nbformat": 4
  },
  "nbformat": 4,
  "nbformat_minor": 2
}
