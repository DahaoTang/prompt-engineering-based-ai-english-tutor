{
 "cells": [
  {
   "cell_type": "code",
   "execution_count": null,
   "metadata": {},
   "outputs": [],
   "source": [
    "import openai\n",
    "import os\n",
    "\n",
    "OPENAI_API_KEY = \"\"\n",
    "\n",
    "env_file = open(\"./.env\", \"r\")\n",
    "env_content = []\n",
    "for line in env_file:\n",
    "\tenv_content.append(line)\n",
    "env_file.close()\n",
    "\n",
    "for line in env_content:\n",
    "\tif \"OPENAI_API_KEY\" in line:\n",
    "\t\tOPENAI_API_KEY = line.split(\"\\\"\")[1]\n",
    "\t\tprint(OPENAI_API_KEY)"
   ]
  }
 ],
 "metadata": {
  "kernelspec": {
   "display_name": "ChatGPT-Prompt-Engineering-VsBAUXeZ",
   "language": "python",
   "name": "python3"
  },
  "language_info": {
   "name": "python",
   "version": "3.9.6"
  },
  "orig_nbformat": 4
 },
 "nbformat": 4,
 "nbformat_minor": 2
}
