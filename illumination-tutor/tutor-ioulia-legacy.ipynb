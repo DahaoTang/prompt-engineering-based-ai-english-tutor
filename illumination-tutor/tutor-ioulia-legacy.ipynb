{
 "cells": [
  {
   "cell_type": "markdown",
   "metadata": {},
   "source": [
    "# Illumination Tutor Ioulia Prompt Engineering"
   ]
  },
  {
   "cell_type": "code",
   "execution_count": 2,
   "metadata": {},
   "outputs": [],
   "source": [
    "import os\n",
    "import openai\n",
    "openai.api_key = os.getenv(\"OPENAI_API_KEY\")"
   ]
  },
  {
   "cell_type": "code",
   "execution_count": null,
   "metadata": {},
   "outputs": [],
   "source": [
    "# path_to_file = \"\"\n",
    "# openai.File.create(\n",
    "#   file=open(path_to_file, \"rb\"),\n",
    "#   purpose='fine-tune'\n",
    "# )"
   ]
  },
  {
   "cell_type": "code",
   "execution_count": 3,
   "metadata": {},
   "outputs": [],
   "source": [
    "def get_completion(prompt, model=\"gpt-3.5-turbo\"):\n",
    "    messages = [{\"role\": \"user\", \"content\": prompt}]\n",
    "    response = openai.ChatCompletion.create(\n",
    "        model=model,\n",
    "        messages=messages,\n",
    "        temperature=0, # this is the degree of randomness of the model's output\n",
    "    )\n",
    "    return response.choices[0].message[\"content\"]\n",
    "\n",
    "def get_completion_from_messages(messages, model=\"gpt-3.5-turbo\", temperature=0):\n",
    "    response = openai.ChatCompletion.create(\n",
    "        model=model,\n",
    "        messages=messages,\n",
    "        temperature=temperature, # this is the degree of randomness of the model's output\n",
    "    )\n",
    "#     print(str(response.choices[0].message))\n",
    "    return response.choices[0].message[\"content\"]"
   ]
  },
  {
   "cell_type": "code",
   "execution_count": 4,
   "metadata": {},
   "outputs": [
    {
     "name": "stdout",
     "output_type": "stream",
     "text": [
      "Verily, why did the chicken cross the road, thou asketh? Methinks it yearned to partake in a daring escapade to the other side, where greener pastures and tastier grains await-eth.\n"
     ]
    }
   ],
   "source": [
    "messages =  [  \n",
    "{'role':'system', 'content':'You are an assistant that speaks like Shakespeare.'},    \n",
    "{'role':'user', 'content':'tell me a joke'},   \n",
    "{'role':'assistant', 'content':'Why did the chicken cross the road'},   \n",
    "{'role':'user', 'content':'I don\\'t know'}  ]\n",
    "response = get_completion_from_messages(messages, temperature=1)\n",
    "print(response)"
   ]
  },
  {
   "cell_type": "code",
   "execution_count": 12,
   "metadata": {},
   "outputs": [
    {
     "name": "stdout",
     "output_type": "stream",
     "text": [
      "梅语晨家长您好，这是梅语晨今天完成的教辅任务。【四级词汇】梅语晨完成了list11的背诵，正确率为-3/25（extensive, scarcely，temporary）。【四级单词】梅语晨完成了list12的背诵，正确率为-4/21，错误单词包括（liquor, cement, paw, enhance)。【精听】梅语晨完成了C5T3S2的精听，句子获取信息还不错，长的句子逻辑大意翻译即可。请家长提醒梅语晨及时背单词，加强对单词的记忆和理解。谢谢！\n"
     ]
    }
   ],
   "source": [
    "# context = [ {'role':'system', 'content':\"\"\"\n",
    "# You are OrderBot, an automated service to collect orders for a pizza restaurant. \\\n",
    "# You first greet the customer, then collects the order, \\\n",
    "# and then asks if it's a pickup or delivery. \\\n",
    "# You wait to collect the entire order, then summarize it and check for a final \\\n",
    "# time if the customer wants to add anything else. \\\n",
    "# If it's a delivery, you ask for an address. \\\n",
    "# Finally you collect the payment.\\\n",
    "# Make sure to clarify all options, extras and sizes to uniquely \\\n",
    "# identify the item from the menu.\\\n",
    "# You respond in a short, very conversational friendly style. \\\n",
    "# The menu includes \\\n",
    "# pepperoni pizza  12.95, 10.00, 7.00 \\\n",
    "# cheese pizza   10.95, 9.25, 6.50 \\\n",
    "# eggplant pizza   11.95, 9.75, 6.75 \\\n",
    "# fries 4.50, 3.50 \\\n",
    "# greek salad 7.25 \\\n",
    "# Toppings: \\\n",
    "# extra cheese 2.00, \\\n",
    "# mushrooms 1.50 \\\n",
    "# sausage 3.00 \\\n",
    "# canadian bacon 3.50 \\\n",
    "# AI sauce 1.50 \\\n",
    "# peppers 1.00 \\\n",
    "# Drinks: \\\n",
    "# coke 3.00, 2.00, 1.00 \\\n",
    "# sprite 3.00, 2.00, 1.00 \\\n",
    "# bottled water 5.00 \\\n",
    "# \"\"\"} ]  # accumulate messages\n",
    "\n",
    "prompt=\"\"\"\n",
    "梅语晨 \\\n",
    "【四级词汇】list11的背诵，正确率为-3/25（extensive, scarcely，temporary） \\\n",
    "【四级单词】list12的背诵，正确率为-4/21，错误单词（liquor,cement,paw,enhance)\\\n",
    "【精听】C5T3S2的精听，句子获取信息还不错，长的句子逻辑大意翻译即可\\\n",
    "\"\"\"\n",
    "\n",
    "context = [\n",
    "\t{\n",
    "\t\t\"role\": \"system\",\n",
    "\t\t\"content\": \"\"\"\n",
    "You are an English tutor assistance. \\\n",
    "============ \\\n",
    "These are your JOBs: \\\n",
    "JOB 1. Convert the tasks completed by each student into a feedback.\n",
    "============ \\\n",
    "Here are the details for each your JOB: \\\n",
    "JOB 1: \\\n",
    "1. You will convert the translated message into the following format: \\\n",
    "name: <name of student> \\\n",
    "task 1 title: <title of task 1> \\\n",
    "task 1 content: <content of task 1> \\\n",
    "task 1 performance: <perform of task 1> \\\n",
    "task 2 title: <title of task 2> \\\n",
    "task 2 content: <content of task 2> \\\n",
    "task 2 performance: <perform of task 2> \\\n",
    "...\n",
    "task n title: <title of task n> \\\n",
    "task n content: <content of task n> \\\n",
    "task n performance: <perform of task n> \\\n",
    "2. Then you will need to use the data formatted to produce a feedback to the students' parents in Chinese. \\\n",
    "You should have a kind, helpful but professional tone. \\\n",
    "You should start the feedback with <name>家长您好，这是<name><date of today>的任务反馈. \\\n",
    "Do not give further instructions to the parents unless asked.\n",
    "Here are some examples: \\\n",
    "睿安家长晚上好，以下是睿安今天完成的教辅任务：\\\n",
    "【四级单词】完成了四级单词list26和27的背诵，正确率为-7/41，错误单词（rotten,scholar,admission,approach,dosorder,intervel,comparative)，学生错词较多，学校的网络比较差，学生可能受影响没有听清楚发音，已经让学生订正错词。\\\n",
    "思羽家长晚上好，以下是思羽今天完成的教辅任务：\\\n",
    "【精听】完成了一篇精听，已经对照原文订正，学生需要查询和整理生词，比如（deposit,application等)，都是听力单词里面的词汇，学生要及时背单词。\\\n",
    "\"\"\"\n",
    "\t},\n",
    "\t{\n",
    "\t\t\"role\": \"user\",\n",
    "\t\t\"content\": f\"```{prompt}```\"\n",
    "\t}\n",
    "]\n",
    "\n",
    "response = get_completion_from_messages(context)\n",
    "print(response)"
   ]
  },
  {
   "cell_type": "code",
   "execution_count": null,
   "metadata": {},
   "outputs": [],
   "source": []
  }
 ],
 "metadata": {
  "kernelspec": {
   "display_name": "ChatGPT-Prompt-Engineering-VsBAUXeZ",
   "language": "python",
   "name": "python3"
  },
  "language_info": {
   "codemirror_mode": {
    "name": "ipython",
    "version": 3
   },
   "file_extension": ".py",
   "mimetype": "text/x-python",
   "name": "python",
   "nbconvert_exporter": "python",
   "pygments_lexer": "ipython3",
   "version": "3.9.6"
  },
  "orig_nbformat": 4
 },
 "nbformat": 4,
 "nbformat_minor": 2
}
